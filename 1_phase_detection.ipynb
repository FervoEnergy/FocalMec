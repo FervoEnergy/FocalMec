{
 "cells": [
  {
   "cell_type": "code",
   "execution_count": 1,
   "metadata": {},
   "outputs": [],
   "source": [
    "import obspy\n",
    "from obspy import read_inventory\n",
    "from collections import defaultdict\n",
    "from pathlib import Path\n",
    "import pandas as pd\n",
    "import polars as pl\n",
    "import numpy as np\n",
    "import matplotlib.pyplot as plt\n",
    "import os\n",
    "import glob\n",
    "import json\n",
    "import pickle\n",
    "from joblib import Parallel,delayed\n",
    "from tqdm.auto import tqdm\n",
    "\n",
    "import warnings\n",
    "warnings.filterwarnings(\"ignore\")"
   ]
  },
  {
   "cell_type": "code",
   "execution_count": 3,
   "metadata": {},
   "outputs": [],
   "source": [
    "root_path = \"/home/ahmadfervo/cape\"\n",
    "waveform_path = [\n",
    "                \"/home/ahmadfervo/cape/waveforms\",\n",
    "                # \"/home/ahmadfervo/cape/20240601-10_earthquake_mseed\",\n",
    "                # \"/home/ahmadfervo/cape/waveforms06_stacked\"\n",
    "                 ]\n",
    "stations_path = f\"{root_path}/b060_stations\"\n",
    "stationxml_path = f\"{root_path}/stationxml\"\n",
    "phasenet_path = \"/home/ahmadfervo/PhaseNet\"\n",
    "eqnet_path = \"/home/ahmadfervo/EQNet\"\n",
    "b060_waveforms = \"/mnt/qnap/Data/TAMU/b060_earthquake_mseed/\"\n",
    "iris_waveforms = f\"{root_path}/iris_data/waveforms/\"\n",
    "EQnetResultDir=f'{root_path}/results_eqnet'"
   ]
  },
  {
   "cell_type": "code",
   "execution_count": 4,
   "metadata": {},
   "outputs": [
    {
     "data": {
      "text/plain": [
       "['CP.C0001..GP', 'CP.C0002..GP', 'CP.C0003..GP']"
      ]
     },
     "execution_count": 4,
     "metadata": {},
     "output_type": "execute_result"
    }
   ],
   "source": [
    "resp_files = glob.glob(f\"{stationxml_path}/*.xml\")\n",
    "resp_files = [resp.split(\"/\")[-1].replace(\".xml\",\"\") for resp in resp_files]\n",
    "resp_files[:3]"
   ]
  },
  {
   "cell_type": "code",
   "execution_count": 5,
   "metadata": {},
   "outputs": [
    {
     "name": "stdout",
     "output_type": "stream",
     "text": [
      "640219\n"
     ]
    }
   ],
   "source": [
    "filenames = []\n",
    "for wave_path in waveform_path:\n",
    "    mseeds = glob.glob(f\"{wave_path}/*/*.mseed\")\n",
    "    filenames += mseeds\n",
    "\n",
    "\n",
    "# mseed_path=b060_waveforms+'/*/*.mseed'\n",
    "# filenames = glob.glob(mseed_path)\n",
    "\n",
    "# mseed_path=iris_waveforms+'/*/*.mseed'\n",
    "# filenames += glob.glob(mseed_path)\n",
    "\n",
    "\n",
    "# filenames=[file.split('/')[-2]+\"/\"+file.split('/')[-1] for file in filenames]\n",
    "# _file_names=[]\n",
    "# for net in network_list:\n",
    "\n",
    "#     filtered_file_name = [file for file in filenames if not net in file]\n",
    "#     _file_names+=filtered_file_name\n",
    "    \n",
    "\n",
    "\n",
    "filenames=np.unique(filenames)\n",
    "print(len(filenames))\n",
    "# filenames=np.insert(filenames, 0, 'fname')"
   ]
  },
  {
   "cell_type": "code",
   "execution_count": 6,
   "metadata": {},
   "outputs": [
    {
     "name": "stdout",
     "output_type": "stream",
     "text": [
      "586802\n",
      "['/home/ahmadfervo/cape/waveforms/eq00001/eq00001_UU.FORK.01.EH.mseed', '/home/ahmadfervo/cape/waveforms/eq00001/eq00001_UU.FORK.01.EN.mseed', '/home/ahmadfervo/cape/waveforms/eq00001/eq00001_UU.FORK.01.GH.mseed']\n"
     ]
    }
   ],
   "source": [
    "def is_valid_file(file):\n",
    "    f = file.split(\"/\")[-1].split(\"_\")[-1].replace(\".mseed\", \"\")\n",
    "    return f in resp_files and \"6K.\" not in f\n",
    "\n",
    "# Parallel processing to filter filenames\n",
    "valid_filenames = Parallel(n_jobs=16)(delayed(is_valid_file)(file) for file in filenames)\n",
    "\n",
    "# Keep only valid filenames\n",
    "filenames = [file for file, valid in zip(filenames, valid_filenames) if valid]\n",
    "\n",
    "\n",
    "# for file in filenames:\n",
    "#     f = file.split(\"/\")[-1].split(\"_\")[-1].replace(\".mseed\",\"\")\n",
    "\n",
    "#     if not f in resp_files: filenames.remove(file)\n",
    "\n",
    "print(len(filenames))\n",
    "print(filenames[:3])\n",
    "\n"
   ]
  },
  {
   "cell_type": "code",
   "execution_count": 15,
   "metadata": {},
   "outputs": [],
   "source": [
    "# stk_files = set([name for name in filenames if \"CP.STK\" in name])\n",
    "# stk_files"
   ]
  },
  {
   "cell_type": "code",
   "execution_count": 7,
   "metadata": {},
   "outputs": [],
   "source": [
    "Path(EQnetResultDir).mkdir(parents=True, exist_ok=True)\n",
    "np.savetxt(EQnetResultDir+'/mseed.txt', filenames, fmt='%s')"
   ]
  },
  {
   "cell_type": "code",
   "execution_count": 8,
   "metadata": {},
   "outputs": [
    {
     "name": "stdout",
     "output_type": "stream",
     "text": [
      "python /home/ahmadfervo/EQNet/predict.py --model phasenet_plus --data_list /home/ahmadfervo/cape/results_eqnet/mseed.txt --response_path /home/ahmadfervo/cape/stationxml --result_path /home/ahmadfervo/cape/results_eqnet --sampling_rate 500 --batch_size=1 --format mseed\n"
     ]
    }
   ],
   "source": [
    "# python predict.py --model phasenet_plus --data_list /s0/data/Oklahoma/pawnee_m4/results_phasenet/mseed.txt --response_path /s0/data/Oklahoma/pawnee_m4/station_response  --result_path /s0/data/Oklahoma/pawnee_m4/results_phasenet --batch_size=1 --format mseed\n",
    "sampling_rate = 500\n",
    "cmd = f\"python {eqnet_path}/predict.py --model phasenet_plus --data_list {EQnetResultDir}/mseed.txt --response_path {stationxml_path} --result_path {EQnetResultDir} --sampling_rate {sampling_rate} --batch_size=1 --format mseed\"\n",
    "# \"--sampling_rate\", type=float, default=100, help=\"sampling rate; default 100.0 Hz\"\n",
    "print(cmd)"
   ]
  },
  {
   "cell_type": "code",
   "execution_count": 9,
   "metadata": {},
   "outputs": [
    {
     "data": {
      "text/plain": [
       "array(['fname', 'eq00025/eq00025_CP.STK00..GP.mseed',\n",
       "       'eq00025/eq00025_CP.STK01..GP.mseed'], dtype='<U34')"
      ]
     },
     "execution_count": 9,
     "metadata": {},
     "output_type": "execute_result"
    }
   ],
   "source": [
    "# PhasenetResultDir=f'{root_path}/results_phasenet'\n",
    "# Path(PhasenetResultDir).mkdir(parents=True, exist_ok=True)\n",
    "# mseed_path=waveform_path+'/*/*.mseed'\n",
    "# filenames = glob.glob(mseed_path)\n",
    "\n",
    "# filenames=[file.split('/')[-2]+\"/\"+file.split('/')[-1] for file in filenames]\n",
    "# filenames=np.unique(filenames)\n",
    "# # print('number of stations',len(filenames))\n",
    "# filenames=np.insert(filenames, 0, 'fname')\n",
    "\n",
    "# np.savetxt(PhasenetResultDir+'/mseed.csv', filenames, fmt='%s')\n",
    "# filenames[:3]"
   ]
  },
  {
   "cell_type": "code",
   "execution_count": 12,
   "metadata": {},
   "outputs": [
    {
     "name": "stdout",
     "output_type": "stream",
     "text": [
      "nohup python /home/ahmadfervo/PhaseNet/phasenet/predict.py --model=/home/ahmadfervo/PhaseNet/model/190703-214543 --data_list=/home/ahmadfervo/cape/results_phasenet/mseed.csv --data_dir=/mnt/qnap/Data/TAMU/b060_earthquake_mseed/ --result_dir=/home/ahmadfervo/cape/results_phasenet --stations=/home/ahmadfervo/cape/b060_stations/stations.json  --format=mseed_array --amplitude &\n"
     ]
    }
   ],
   "source": [
    "# cmd = f\"nohup python {phasenet_path}/phasenet/predict.py --model={phasenet_path}/model/190703-214543 --data_list={PhasenetResultDir}/mseed.csv --data_dir={waveform_path}/ --result_dir={PhasenetResultDir} --stations={stations_path}/stations.json  --format=mseed_array --amplitude &\"\n",
    "\n",
    "# print(cmd)"
   ]
  },
  {
   "cell_type": "code",
   "execution_count": 5,
   "metadata": {},
   "outputs": [],
   "source": [
    "# picks = pd.read_csv(f\"{EQnetResultDir}/picks_phasenet_plus.csv\")\n",
    "# picks[:3]"
   ]
  },
  {
   "cell_type": "code",
   "execution_count": 3,
   "metadata": {},
   "outputs": [
    {
     "name": "stdout",
     "output_type": "stream",
     "text": [
      "742801\n"
     ]
    },
    {
     "data": {
      "text/plain": [
       "['/home/ahmadfervo/cape/results_eqnet06/picks_phasenet_plus/eq06737_CP.C0001..GP.csv',\n",
       " '/home/ahmadfervo/cape/results_eqnet06/picks_phasenet_plus/eq06737_CP.C0002..GP.csv',\n",
       " '/home/ahmadfervo/cape/results_eqnet06/picks_phasenet_plus/eq06737_CP.C0003..GP.csv']"
      ]
     },
     "execution_count": 3,
     "metadata": {},
     "output_type": "execute_result"
    }
   ],
   "source": [
    "pick_files = glob.glob(f\"{EQnetResultDir}/picks_phasenet_plus/*\")\n",
    "# pick_files = glob.glob(\"/home/ahmadfervo/cape/results_eqnet.184/picks_phasenet_plus/*.csv\")\n",
    "pick_files = list(filter(lambda file: os.stat(file).st_size > 0, pick_files))\n",
    "print(len(pick_files))\n",
    "pick_files[:3]"
   ]
  },
  {
   "cell_type": "code",
   "execution_count": 4,
   "metadata": {},
   "outputs": [],
   "source": [
    "def read_csv(_csv):\n",
    "# station_id,phase_index,phase_time,phase_score,phase_type,dt_s,phase_polarity,phase_amplitude\n",
    "    df = pd.read_csv(_csv)\n",
    "    event_index = _csv.split(\"/\")[-1].split(\"_\")[0]\n",
    "    df[\"event_index\"] = event_index\n",
    "        \n",
    "    return df\n",
    "\n",
    "\n",
    "# def read_csv(_csv):\n",
    "# # station_id,phase_index,phase_time,phase_score,phase_type,dt_s,phase_polarity,phase_amplitude\n",
    "#     file_size = os.path.getsize(_csv)\n",
    "\n",
    "#     if file_size > 0:\n",
    "#         df = pd.read_csv(_csv)\n",
    "#         event_index = _csv.split(\"/\")[-1].split(\"_\")[0]\n",
    "#         df[\"event_index\"] = event_index\n",
    "#     else:\n",
    "#         df = pd.DataFrame(columns=[\"station_id\",\"event_index\",\"phase_index\",\"phase_time\",\"phase_score\",\n",
    "#                                    \"phase_type\",\"dt_s\",\"phase_polarity\",\"phase_amplitude\"])\n",
    "        \n",
    "#     return df"
   ]
  },
  {
   "cell_type": "code",
   "execution_count": 10,
   "metadata": {},
   "outputs": [],
   "source": [
    "# def read_csv(_csv):\n",
    "# # station_id,phase_index,phase_time,phase_score,phase_type,dt_s,phase_polarity,phase_amplitude\n",
    "#     file_size = os.path.getsize(_csv)\n",
    "\n",
    "#     if file_size > 0:\n",
    "#         df = pl.read_csv(_csv)\n",
    "#         event_index = _csv.split(\"/\")[-1].split(\"_\")[0]\n",
    "#         df[\"event_index\"] = event_index\n",
    "#     else:\n",
    "#         df = pl.DataFrame.with_columns({\"station_id\":[],\n",
    "#                            \"event_index\":[],\n",
    "#                            \"phase_index\":[],\n",
    "#                            \"phase_time\":[],\n",
    "#                            \"phase_score\":[],\n",
    "#                             \"phase_type\":[],\n",
    "#                             \"dt_s\":[],\n",
    "#                             \"phase_polarity\":[],\n",
    "#                             \"phase_amplitude\":[]})\n",
    "        \n",
    "#     return df"
   ]
  },
  {
   "cell_type": "code",
   "execution_count": 5,
   "metadata": {},
   "outputs": [
    {
     "data": {
      "text/html": [
       "<div>\n",
       "<style scoped>\n",
       "    .dataframe tbody tr th:only-of-type {\n",
       "        vertical-align: middle;\n",
       "    }\n",
       "\n",
       "    .dataframe tbody tr th {\n",
       "        vertical-align: top;\n",
       "    }\n",
       "\n",
       "    .dataframe thead th {\n",
       "        text-align: right;\n",
       "    }\n",
       "</style>\n",
       "<table border=\"1\" class=\"dataframe\">\n",
       "  <thead>\n",
       "    <tr style=\"text-align: right;\">\n",
       "      <th></th>\n",
       "      <th>station_id</th>\n",
       "      <th>phase_index</th>\n",
       "      <th>phase_time</th>\n",
       "      <th>phase_score</th>\n",
       "      <th>phase_type</th>\n",
       "      <th>dt_s</th>\n",
       "      <th>phase_polarity</th>\n",
       "      <th>phase_amplitude</th>\n",
       "      <th>event_index</th>\n",
       "    </tr>\n",
       "  </thead>\n",
       "  <tbody>\n",
       "    <tr>\n",
       "      <th>0</th>\n",
       "      <td>CP.C0001..GP</td>\n",
       "      <td>484</td>\n",
       "      <td>2024-06-01T14:16:51.611</td>\n",
       "      <td>0.934</td>\n",
       "      <td>P</td>\n",
       "      <td>0.004</td>\n",
       "      <td>-0.879</td>\n",
       "      <td>0.000420</td>\n",
       "      <td>eq06737</td>\n",
       "    </tr>\n",
       "    <tr>\n",
       "      <th>1</th>\n",
       "      <td>CP.C0001..GP</td>\n",
       "      <td>731</td>\n",
       "      <td>2024-06-01T14:16:52.599</td>\n",
       "      <td>0.338</td>\n",
       "      <td>S</td>\n",
       "      <td>0.004</td>\n",
       "      <td>0.100</td>\n",
       "      <td>0.000128</td>\n",
       "      <td>eq06737</td>\n",
       "    </tr>\n",
       "    <tr>\n",
       "      <th>2</th>\n",
       "      <td>CP.C0002..GP</td>\n",
       "      <td>484</td>\n",
       "      <td>2024-06-01T14:16:51.611</td>\n",
       "      <td>0.945</td>\n",
       "      <td>P</td>\n",
       "      <td>0.004</td>\n",
       "      <td>-0.895</td>\n",
       "      <td>0.000469</td>\n",
       "      <td>eq06737</td>\n",
       "    </tr>\n",
       "  </tbody>\n",
       "</table>\n",
       "</div>"
      ],
      "text/plain": [
       "     station_id  phase_index               phase_time  phase_score phase_type  \\\n",
       "0  CP.C0001..GP          484  2024-06-01T14:16:51.611        0.934          P   \n",
       "1  CP.C0001..GP          731  2024-06-01T14:16:52.599        0.338          S   \n",
       "2  CP.C0002..GP          484  2024-06-01T14:16:51.611        0.945          P   \n",
       "\n",
       "    dt_s  phase_polarity  phase_amplitude event_index  \n",
       "0  0.004          -0.879         0.000420     eq06737  \n",
       "1  0.004           0.100         0.000128     eq06737  \n",
       "2  0.004          -0.895         0.000469     eq06737  "
      ]
     },
     "execution_count": 5,
     "metadata": {},
     "output_type": "execute_result"
    }
   ],
   "source": [
    "\n",
    "\n",
    "# Parallel(n_jobs=16)(delayed(add_event_data)(row, _picks, _inv, _stations, _evid_dict, _stid_dict) for row in rows)\n",
    "picks = pd.concat(\n",
    "    Parallel(n_jobs=8)(delayed(read_csv)(pick_file) for pick_file in pick_files),\n",
    "    ignore_index=True\n",
    ")\n",
    "picks[:3]"
   ]
  },
  {
   "cell_type": "code",
   "execution_count": 6,
   "metadata": {},
   "outputs": [
    {
     "data": {
      "text/plain": [
       "1614707"
      ]
     },
     "execution_count": 6,
     "metadata": {},
     "output_type": "execute_result"
    }
   ],
   "source": [
    "picks.to_csv(f\"{EQnetResultDir}/picks.csv\",index=False,float_format=\"%.8f\")\n",
    "len(picks)"
   ]
  },
  {
   "cell_type": "code",
   "execution_count": 7,
   "metadata": {},
   "outputs": [],
   "source": [
    "import matplotlib.pyplot as plt\n",
    "import seaborn as sns"
   ]
  },
  {
   "cell_type": "code",
   "execution_count": 8,
   "metadata": {},
   "outputs": [
    {
     "data": {
      "text/plain": [
       "1215247"
      ]
     },
     "execution_count": 8,
     "metadata": {},
     "output_type": "execute_result"
    }
   ],
   "source": [
    "unipicks = picks.drop_duplicates(subset=[\"event_index\",\"station_id\",\"phase_type\"])\n",
    "len(unipicks)"
   ]
  },
  {
   "cell_type": "code",
   "execution_count": 13,
   "metadata": {},
   "outputs": [],
   "source": [
    "events_id = unipicks[\"event_index\"].unique()\n",
    "# sn = Parallel(n_jobs=8,verbose=10)(delayed(len)(unipicks[unipicks[\"event_index\"]==evid]) for evid in events_id)\n",
    "# sn = [len(unipicks[unipicks[\"event_index\"]==evid]) for evid in events_id]\n",
    "\n",
    "# for evid in tqdm(events_id):\n",
    "#     sn.append(len(unipicks[unipicks[\"event_index\"]==evid]))\n"
   ]
  },
  {
   "cell_type": "code",
   "execution_count": 13,
   "metadata": {},
   "outputs": [],
   "source": [
    "df = pd.DataFrame({\"event_index\":events_id, \"number_of_picks\":sn})"
   ]
  },
  {
   "cell_type": "code",
   "execution_count": 18,
   "metadata": {},
   "outputs": [
    {
     "data": {
      "image/png": "[encoded data removed]",
      "text/plain": [
       "<Figure size 800x600 with 1 Axes>"
      ]
     },
     "metadata": {},
     "output_type": "display_data"
    }
   ],
   "source": [
    "fig = plt.figure(figsize=(8,6))\n",
    "ax = fig.add_subplot()\n",
    "sns.histplot(data=df,x='number_of_picks',bins=90)\n",
    "ax.set_xlabel('Picks')\n",
    "ax.set_ylabel('Number of events')\n",
    "ax.set_title(r'Picks histogram', y=1.02, fontsize=15)\n",
    "# plt.legend()\n",
    "fig.tight_layout()"
   ]
  },
  {
   "cell_type": "code",
   "execution_count": 9,
   "metadata": {},
   "outputs": [
    {
     "name": "stdout",
     "output_type": "stream",
     "text": [
      "124109\n",
      "110954\n"
     ]
    }
   ],
   "source": [
    "ppick=unipicks[unipicks[\"phase_type\"]==\"P\"]\n",
    "spick=unipicks[unipicks[\"phase_type\"]==\"S\"]\n",
    "print(len(ppick))\n",
    "print(len(spick))"
   ]
  },
  {
   "cell_type": "code",
   "execution_count": 10,
   "metadata": {},
   "outputs": [
    {
     "data": {
      "image/png": "[encoded data removed]",
      "text/plain": [
       "<Figure size 800x600 with 1 Axes>"
      ]
     },
     "metadata": {},
     "output_type": "display_data"
    }
   ],
   "source": [
    "fig = plt.figure(figsize=(8,6))\n",
    "ax = fig.add_subplot()\n",
    "sns.histplot(data=ppick,x='phase_score',bins=90)\n",
    "ax.set_xlabel('Phase Score')\n",
    "ax.set_ylabel('Number of events')\n",
    "ax.set_title(r'P Picks Phase Score', y=1.02, fontsize=15)\n",
    "fig.tight_layout()"
   ]
  },
  {
   "cell_type": "code",
   "execution_count": 11,
   "metadata": {},
   "outputs": [
    {
     "data": {
      "image/png": "[encoded data removed]",
      "text/plain": [
       "<Figure size 800x600 with 1 Axes>"
      ]
     },
     "metadata": {},
     "output_type": "display_data"
    }
   ],
   "source": [
    "fig = plt.figure(figsize=(8,6))\n",
    "ax = fig.add_subplot()\n",
    "sns.histplot(data=spick,x='phase_score',bins=90)\n",
    "ax.set_xlabel('Phase Score')\n",
    "ax.set_ylabel('Number of events')\n",
    "ax.set_title(r'S Picks Phase Score', y=1.02, fontsize=15)\n",
    "fig.tight_layout()"
   ]
  },
  {
   "cell_type": "code",
   "execution_count": 14,
   "metadata": {},
   "outputs": [
    {
     "data": {
      "image/png": "[encoded data removed]",
      "text/plain": [
       "<Figure size 800x600 with 1 Axes>"
      ]
     },
     "metadata": {},
     "output_type": "display_data"
    }
   ],
   "source": [
    "psn = [len(ppick[ppick[\"event_index\"]==evid]) for evid in events_id]\n",
    "pdf = pd.DataFrame({\"event_index\":events_id, \"number_of_picks\":psn})\n",
    "\n",
    "fig = plt.figure(figsize=(8,6))\n",
    "ax = fig.add_subplot()\n",
    "sns.histplot(data=pdf,x='number_of_picks',bins=90)\n",
    "ax.set_xlabel('Number of P Picks')\n",
    "ax.set_ylabel('Number of events')\n",
    "ax.set_title(r'P Picks histogram', y=1.02, fontsize=15)\n",
    "# plt.legend()\n",
    "fig.tight_layout()"
   ]
  },
  {
   "cell_type": "code",
   "execution_count": 15,
   "metadata": {},
   "outputs": [
    {
     "data": {
      "image/png": "[encoded data removed]",
      "text/plain": [
       "<Figure size 800x600 with 1 Axes>"
      ]
     },
     "metadata": {},
     "output_type": "display_data"
    }
   ],
   "source": [
    "ssn = [len(spick[spick[\"event_index\"]==evid]) for evid in events_id]\n",
    "sdf = pd.DataFrame({\"event_index\":events_id, \"number_of_picks\":ssn})\n",
    "\n",
    "fig = plt.figure(figsize=(8,6))\n",
    "ax = fig.add_subplot()\n",
    "sns.histplot(data=sdf,x='number_of_picks',bins=90)\n",
    "ax.set_xlabel('Number of S Picks')\n",
    "ax.set_ylabel('Number of events')\n",
    "ax.set_title(r'S Picks histogram', y=1.02, fontsize=15)\n",
    "# plt.legend()\n",
    "fig.tight_layout()"
   ]
  },
  {
   "cell_type": "code",
   "execution_count": 16,
   "metadata": {},
   "outputs": [
    {
     "data": {
      "text/plain": [
       "array(['CP.C0001..GP', 'CP.C0002..GP', 'CP.C0003..GP', 'CP.C0004..GP',\n",
       "       'CP.C0005..GP', 'CP.C0007..GP', 'CP.C0008..GP', 'CP.C0009..GP',\n",
       "       'CP.C0011..GP', 'CP.C0012..GP', 'CP.C0013..GP', 'CP.C0014..GP',\n",
       "       'CP.C0016..GP', 'CP.C0019..GP', 'CP.C0020..GP', 'CP.C0021..GP',\n",
       "       'CP.C0022..GP', 'CP.C0023..GP', 'CP.C0025..GP', 'CP.C0027..GP',\n",
       "       'CP.C0029..GP', 'CP.C0030..GP', 'CP.C0031..GP', 'CP.C0032..GP',\n",
       "       'CP.C0037..GP', 'CP.C0038..GP', 'CP.C0039..GP', 'CP.C0041..GP',\n",
       "       'CP.C0045..GP', 'CP.C0047..GP', 'CP.C0048..GP', 'CP.C0049..GP',\n",
       "       'CP.C0050..GP', 'CP.C0054..GP', 'CP.C0055..GP', 'CP.C0056..GP',\n",
       "       'CP.C0057..GP', 'CP.C0058..GP', 'CP.C0059..GP', 'CP.C0061..GP',\n",
       "       'CP.C0062..GP', 'CP.C0063..GP', 'CP.C0064..GP', 'CP.C0065..GP',\n",
       "       'CP.C0066..GP', 'CP.C0067..GP', 'CP.C0068..GP', 'CP.C0069..GP',\n",
       "       'CP.C0070..GP', 'CP.C0071..GP', 'CP.C0072..GP', 'CP.C0073..GP',\n",
       "       'CP.C0074..GP', 'CP.C0075..GP', 'CP.C0076..GP', 'CP.C0077..GP',\n",
       "       'CP.C0078..GP', 'CP.C0079..GP', 'CP.C0080..GP', 'CP.C0081..GP',\n",
       "       'CP.C0082..GP', 'CP.C0083..GP', 'CP.C0084..GP', 'CP.C0085..GP',\n",
       "       'CP.C0086..GP', 'CP.C0087..GP', 'CP.C0089..GP', 'CP.C0090..GP',\n",
       "       'CP.C0091..GP', 'CP.C0092..GP', 'CP.C0093..GP', 'CP.C0094..GP',\n",
       "       'CP.C0095..GP', 'CP.C0096..GP', 'CP.C0097..GP', 'CP.C0098..GP',\n",
       "       'CP.C1101..GP', 'CP.C1102..GP', 'CP.C1104..GP', 'CP.C1105..GP',\n",
       "       'CP.C1106..GP', 'CP.C1107..GP', 'CP.C1108..GP', 'CP.C1109..GP',\n",
       "       'CP.C1110..GP', 'CP.C1111..GP', 'CP.C1112..GP', 'CP.C1113..GP',\n",
       "       'CP.C1114..GP', 'CP.C1115..GP', 'CP.C1116..GP', 'CP.C1209..GP',\n",
       "       'CP.C1301..GP', 'CP.C1302..GP', 'CP.C1303..GP', 'CP.C1304..GP',\n",
       "       'CP.C1305..GP', 'CP.C1306..GP', 'CP.C1307..GP', 'CP.C1308..GP',\n",
       "       'CP.C1309..GP', 'CP.C1310..GP', 'CP.C1311..GP', 'CP.C1312..GP',\n",
       "       'CP.C1313..GP', 'CP.C1314..GP', 'CP.C1315..GP', 'CP.C1316..GP',\n",
       "       'CP.C1404..GP', 'CP.C1601..GP', 'CP.C1602..GP', 'CP.C1603..GP',\n",
       "       'CP.C1604..GP', 'CP.C1605..GP', 'CP.C1606..GP', 'CP.C1607..GP',\n",
       "       'CP.C1608..GP', 'CP.C1609..GP', 'CP.C1610..GP', 'CP.C1611..GP',\n",
       "       'CP.C1612..GP', 'CP.C1613..GP', 'CP.C1614..GP', 'CP.C1615..GP',\n",
       "       'CP.C1616..GP', 'CP.C1702..GP', 'CP.C1704..GP', 'CP.C1706..GP',\n",
       "       'CP.C1707..GP', 'CP.C1709..GP', 'CP.C1710..GP', 'CP.C1713..GP',\n",
       "       'CP.C1714..GP', 'CP.C1715..GP', 'CP.C1716..GP', 'CP.C1801..GP',\n",
       "       'CP.C1802..GP', 'CP.C1803..GP', 'CP.C1804..GP', 'CP.C1805..GP',\n",
       "       'CP.C1806..GP', 'CP.C1807..GP', 'CP.C1808..GP', 'CP.C1809..GP',\n",
       "       'CP.C1811..GP', 'CP.C1812..GP', 'CP.C1813..GP', 'CP.C1814..GP',\n",
       "       'CP.C1815..GP', 'CP.C1816..GP', 'CP.C1901..GP', 'CP.C1902..GP',\n",
       "       'CP.C1903..GP', 'CP.C1904..GP', 'CP.C1905..GP', 'CP.C1906..GP',\n",
       "       'CP.C1907..GP', 'CP.C1908..GP', 'CP.C1909..GP', 'CP.C1910..GP',\n",
       "       'CP.C1911..GP', 'CP.C1912..GP', 'CP.C1913..GP', 'CP.C1914..GP',\n",
       "       'CP.C1915..GP', 'CP.C1916..GP', 'UU.FOR2.01.HH', 'UU.FOR5.01.HH',\n",
       "       'UU.FORK.01.EN', 'UU.FORK.01.GH', 'UU.FORU.01.HH', 'UU.FSB1.01.HH',\n",
       "       'UU.FSB3.01.HH', 'CP.C0033..GP', 'CP.C0053..GP', 'CP.C0060..GP',\n",
       "       'CP.C1210..GP', 'CP.C1413..GP', 'CP.C1414..GP', 'CP.C1703..GP',\n",
       "       'CP.C1708..GP', 'CP.C1711..GP', 'CP.C1712..GP', 'UU.FORK.01.GN',\n",
       "       'UU.FSB2.01.EN', 'CP.C0046..GP', 'CP.C0026..GP', 'CP.C0044..GP',\n",
       "       'CP.C1405..GP', 'CP.C1506..GP', 'CP.C1510..GP', 'CP.C1701..GP',\n",
       "       'CP.C1705..GP', 'CP.C1810..GP', 'CP.C0051..GP', 'CP.C1406..GP',\n",
       "       'UU.FSB2.01.DN', 'UU.FSB2.01.HH', 'CP.C0036..GP', 'UU.FORW.01.EN',\n",
       "       'CP.C1211..GP', 'CP.C1412..GP', 'CP.C1415..GP', 'CP.C0052..GP',\n",
       "       'CP.C1103..GP', 'CP.C1202..GP', 'CP.C1205..GP', 'CP.C1212..GP',\n",
       "       'CP.C1213..GP', 'CP.C1214..GP', 'CP.C1215..GP', 'CP.C1216..GP',\n",
       "       'CP.C1401..GP', 'CP.C1403..GP', 'CP.C1409..GP', 'CP.C1410..GP',\n",
       "       'CP.C1411..GP', 'CP.C1416..GP', 'CP.C1504..GP', 'CP.C1201..GP',\n",
       "       'CP.C0018..GP', 'CP.C0024..GP', 'CP.C0028..GP', 'CP.C0035..GP',\n",
       "       'CP.C0042..GP', 'CP.C0043..GP', 'CP.C1010..GP', 'CP.C1012..GP',\n",
       "       'CP.C1203..GP', 'CP.C1204..GP', 'CP.C1206..GP', 'CP.C1207..GP',\n",
       "       'CP.C1208..GP', 'CP.C1402..GP', 'CP.C1407..GP', 'CP.C1408..GP',\n",
       "       'CP.C1501..GP', 'CP.C1502..GP', 'CP.C1503..GP', 'CP.C0034..GP',\n",
       "       'CP.C0040..GP', 'CP.C1001..GP', 'CP.C1005..GP', 'CP.C1009..GP',\n",
       "       'CP.C1013..GP', 'CP.C1015..GP', 'CP.C1505..GP', 'CP.C1507..GP',\n",
       "       'CP.C1508..GP', 'CP.C1509..GP', 'CP.C1511..GP', 'CP.C1512..GP',\n",
       "       'CP.C1513..GP', 'CP.C1514..GP', 'CP.C1516..GP', 'CP.C1004..GP',\n",
       "       'CP.C1008..GP', 'CP.C0017..GP', 'CP.C1011..GP', 'CP.C1003..GP',\n",
       "       'CP.C1006..GP', 'CP.C1016..GP', 'CP.C1014..GP', 'CP.C1002..GP',\n",
       "       'CP.C1515..GP'], dtype=object)"
      ]
     },
     "execution_count": 16,
     "metadata": {},
     "output_type": "execute_result"
    }
   ],
   "source": [
    "picks[\"station_id\"].unique()"
   ]
  },
  {
   "cell_type": "code",
   "execution_count": 24,
   "metadata": {},
   "outputs": [
    {
     "data": {
      "text/html": [
       "<div>\n",
       "<style scoped>\n",
       "    .dataframe tbody tr th:only-of-type {\n",
       "        vertical-align: middle;\n",
       "    }\n",
       "\n",
       "    .dataframe tbody tr th {\n",
       "        vertical-align: top;\n",
       "    }\n",
       "\n",
       "    .dataframe thead th {\n",
       "        text-align: right;\n",
       "    }\n",
       "</style>\n",
       "<table border=\"1\" class=\"dataframe\">\n",
       "  <thead>\n",
       "    <tr style=\"text-align: right;\">\n",
       "      <th></th>\n",
       "      <th>station_id</th>\n",
       "      <th>phase_index</th>\n",
       "      <th>phase_time</th>\n",
       "      <th>phase_score</th>\n",
       "      <th>phase_type</th>\n",
       "      <th>dt_s</th>\n",
       "      <th>phase_polarity</th>\n",
       "      <th>phase_amplitude</th>\n",
       "      <th>event_index</th>\n",
       "    </tr>\n",
       "  </thead>\n",
       "  <tbody>\n",
       "    <tr>\n",
       "      <th>0</th>\n",
       "      <td>CP.STK04..GP</td>\n",
       "      <td>140</td>\n",
       "      <td>2024-02-10T02:39:33.366</td>\n",
       "      <td>0.305</td>\n",
       "      <td>P</td>\n",
       "      <td>0.01</td>\n",
       "      <td>0.402</td>\n",
       "      <td>1.064000e-07</td>\n",
       "      <td>eq00011</td>\n",
       "    </tr>\n",
       "    <tr>\n",
       "      <th>1</th>\n",
       "      <td>CP.C0002..GP</td>\n",
       "      <td>150</td>\n",
       "      <td>2024-02-11T16:10:57.180</td>\n",
       "      <td>0.424</td>\n",
       "      <td>P</td>\n",
       "      <td>0.01</td>\n",
       "      <td>0.781</td>\n",
       "      <td>1.836000e-03</td>\n",
       "      <td>eq00017</td>\n",
       "    </tr>\n",
       "    <tr>\n",
       "      <th>2</th>\n",
       "      <td>CP.C0002..GP</td>\n",
       "      <td>288</td>\n",
       "      <td>2024-02-11T16:10:58.560</td>\n",
       "      <td>0.416</td>\n",
       "      <td>S</td>\n",
       "      <td>0.01</td>\n",
       "      <td>-0.036</td>\n",
       "      <td>1.836000e-03</td>\n",
       "      <td>eq00017</td>\n",
       "    </tr>\n",
       "  </tbody>\n",
       "</table>\n",
       "</div>"
      ],
      "text/plain": [
       "     station_id  phase_index               phase_time  phase_score phase_type  \\\n",
       "0  CP.STK04..GP          140  2024-02-10T02:39:33.366        0.305          P   \n",
       "1  CP.C0002..GP          150  2024-02-11T16:10:57.180        0.424          P   \n",
       "2  CP.C0002..GP          288  2024-02-11T16:10:58.560        0.416          S   \n",
       "\n",
       "   dt_s  phase_polarity  phase_amplitude event_index  \n",
       "0  0.01           0.402     1.064000e-07     eq00011  \n",
       "1  0.01           0.781     1.836000e-03     eq00017  \n",
       "2  0.01          -0.036     1.836000e-03     eq00017  "
      ]
     },
     "execution_count": 24,
     "metadata": {},
     "output_type": "execute_result"
    }
   ],
   "source": [
    "# picks = pd.concat(map(read_csv,files),ignore_index=True)\n",
    "# # picks = pd.read_csv(files)\n",
    "# picks[:3]"
   ]
  },
  {
   "cell_type": "code",
   "execution_count": 7,
   "metadata": {},
   "outputs": [],
   "source": [
    "picks.to_csv(f\"{EQnetResultDir}/picks.csv\",index=False,float_format=\"%.8f\")"
   ]
  },
  {
   "cell_type": "code",
   "execution_count": 36,
   "metadata": {},
   "outputs": [
    {
     "data": {
      "text/html": [
       "<div><style>\n",
       ".dataframe > thead > tr,\n",
       ".dataframe > tbody > tr {\n",
       "  text-align: right;\n",
       "  white-space: pre-wrap;\n",
       "}\n",
       "</style>\n",
       "<small>shape: (0, 9)</small><table border=\"1\" class=\"dataframe\"><thead><tr><th>station_id</th><th>event_index</th><th>phase_index</th><th>phase_time</th><th>phase_score</th><th>phase_type</th><th>dt_s</th><th>phase_polarity</th><th>phase_amplitude</th></tr><tr><td>null</td><td>null</td><td>null</td><td>null</td><td>null</td><td>null</td><td>null</td><td>null</td><td>null</td></tr></thead><tbody></tbody></table></div>"
      ],
      "text/plain": [
       "shape: (0, 9)\n",
       "┌────────────┬────────────┬────────────┬────────────┬───┬───────────┬──────┬───────────┬───────────┐\n",
       "│ station_id ┆ event_inde ┆ phase_inde ┆ phase_time ┆ … ┆ phase_typ ┆ dt_s ┆ phase_pol ┆ phase_amp │\n",
       "│ ---        ┆ x          ┆ x          ┆ ---        ┆   ┆ e         ┆ ---  ┆ arity     ┆ litude    │\n",
       "│ null       ┆ ---        ┆ ---        ┆ null       ┆   ┆ ---       ┆ null ┆ ---       ┆ ---       │\n",
       "│            ┆ null       ┆ null       ┆            ┆   ┆ null      ┆      ┆ null      ┆ null      │\n",
       "╞════════════╪════════════╪════════════╪════════════╪═══╪═══════════╪══════╪═══════════╪═══════════╡\n",
       "└────────────┴────────────┴────────────┴────────────┴───┴───────────┴──────┴───────────┴───────────┘"
      ]
     },
     "execution_count": 36,
     "metadata": {},
     "output_type": "execute_result"
    }
   ],
   "source": [
    "df1 = pl.DataFrame({\"station_id\":[],\n",
    "                           \"event_index\":[],\n",
    "                           \"phase_index\":[],\n",
    "                           \"phase_time\":[],\n",
    "                           \"phase_score\":[],\n",
    "                            \"phase_type\":[],\n",
    "                            \"dt_s\":[],\n",
    "                            \"phase_polarity\":[],\n",
    "                            \"phase_amplitude\":[]})\n",
    "\n",
    "df1"
   ]
  },
  {
   "cell_type": "code",
   "execution_count": 33,
   "metadata": {},
   "outputs": [
    {
     "data": {
      "text/html": [
       "<div><style>\n",
       ".dataframe > thead > tr,\n",
       ".dataframe > tbody > tr {\n",
       "  text-align: right;\n",
       "  white-space: pre-wrap;\n",
       "}\n",
       "</style>\n",
       "<small>shape: (2, 9)</small><table border=\"1\" class=\"dataframe\"><thead><tr><th>station_id</th><th>phase_index</th><th>phase_time</th><th>phase_score</th><th>phase_type</th><th>dt_s</th><th>phase_polarity</th><th>phase_amplitude</th><th>event_index</th></tr><tr><td>str</td><td>i64</td><td>str</td><td>f64</td><td>str</td><td>f64</td><td>f64</td><td>f64</td><td>str</td></tr></thead><tbody><tr><td>&quot;CP.C1905..GP&quot;</td><td>112</td><td>&quot;2024-02-11T16:10:56.800&quot;</td><td>0.512</td><td>&quot;P&quot;</td><td>0.01</td><td>-0.762</td><td>40.68</td><td>&quot;some_text&quot;</td></tr><tr><td>&quot;CP.C1905..GP&quot;</td><td>195</td><td>&quot;2024-02-11T16:10:57.630&quot;</td><td>0.426</td><td>&quot;S&quot;</td><td>0.01</td><td>-0.039</td><td>40.68</td><td>&quot;some_text&quot;</td></tr></tbody></table></div>"
      ],
      "text/plain": [
       "shape: (2, 9)\n",
       "┌────────────┬────────────┬────────────┬────────────┬───┬──────┬───────────┬───────────┬───────────┐\n",
       "│ station_id ┆ phase_inde ┆ phase_time ┆ phase_scor ┆ … ┆ dt_s ┆ phase_pol ┆ phase_amp ┆ event_ind │\n",
       "│ ---        ┆ x          ┆ ---        ┆ e          ┆   ┆ ---  ┆ arity     ┆ litude    ┆ ex        │\n",
       "│ str        ┆ ---        ┆ str        ┆ ---        ┆   ┆ f64  ┆ ---       ┆ ---       ┆ ---       │\n",
       "│            ┆ i64        ┆            ┆ f64        ┆   ┆      ┆ f64       ┆ f64       ┆ str       │\n",
       "╞════════════╪════════════╪════════════╪════════════╪═══╪══════╪═══════════╪═══════════╪═══════════╡\n",
       "│ CP.C1905.. ┆ 112        ┆ 2024-02-11 ┆ 0.512      ┆ … ┆ 0.01 ┆ -0.762    ┆ 40.68     ┆ some_text │\n",
       "│ GP         ┆            ┆ T16:10:56. ┆            ┆   ┆      ┆           ┆           ┆           │\n",
       "│            ┆            ┆ 800        ┆            ┆   ┆      ┆           ┆           ┆           │\n",
       "│ CP.C1905.. ┆ 195        ┆ 2024-02-11 ┆ 0.426      ┆ … ┆ 0.01 ┆ -0.039    ┆ 40.68     ┆ some_text │\n",
       "│ GP         ┆            ┆ T16:10:57. ┆            ┆   ┆      ┆           ┆           ┆           │\n",
       "│            ┆            ┆ 630        ┆            ┆   ┆      ┆           ┆           ┆           │\n",
       "└────────────┴────────────┴────────────┴────────────┴───┴──────┴───────────┴───────────┴───────────┘"
      ]
     },
     "execution_count": 33,
     "metadata": {},
     "output_type": "execute_result"
    }
   ],
   "source": [
    "df = pl.read_csv(pick_files[500])\n",
    "df = df.with_columns(\n",
    "    event_index = pl.lit('some_text')\n",
    ")\n",
    "df"
   ]
  },
  {
   "cell_type": "code",
   "execution_count": 34,
   "metadata": {},
   "outputs": [
    {
     "ename": "SchemaError",
     "evalue": "type String is incompatible with expected type Null",
     "output_type": "error",
     "traceback": [
      "\u001b[0;31m---------------------------------------------------------------------------\u001b[0m",
      "\u001b[0;31mSchemaError\u001b[0m                               Traceback (most recent call last)",
      "Cell \u001b[0;32mIn[34], line 1\u001b[0m\n\u001b[0;32m----> 1\u001b[0m \u001b[43mpl\u001b[49m\u001b[38;5;241;43m.\u001b[39;49m\u001b[43mconcat\u001b[49m\u001b[43m(\u001b[49m\u001b[43m[\u001b[49m\u001b[43mdf1\u001b[49m\u001b[43m,\u001b[49m\u001b[43mdf\u001b[49m\u001b[43m]\u001b[49m\u001b[43m,\u001b[49m\u001b[43mrechunk\u001b[49m\u001b[38;5;241;43m=\u001b[39;49m\u001b[38;5;28;43;01mTrue\u001b[39;49;00m\u001b[43m)\u001b[49m\n",
      "File \u001b[0;32m~/miniconda3/envs/seisbench/lib/python3.10/site-packages/polars/functions/eager.py:182\u001b[0m, in \u001b[0;36mconcat\u001b[0;34m(items, how, rechunk, parallel)\u001b[0m\n\u001b[1;32m    180\u001b[0m \u001b[38;5;28;01mif\u001b[39;00m \u001b[38;5;28misinstance\u001b[39m(first, pl\u001b[38;5;241m.\u001b[39mDataFrame):\n\u001b[1;32m    181\u001b[0m     \u001b[38;5;28;01mif\u001b[39;00m how \u001b[38;5;241m==\u001b[39m \u001b[38;5;124m\"\u001b[39m\u001b[38;5;124mvertical\u001b[39m\u001b[38;5;124m\"\u001b[39m:\n\u001b[0;32m--> 182\u001b[0m         out \u001b[38;5;241m=\u001b[39m wrap_df(\u001b[43mplr\u001b[49m\u001b[38;5;241;43m.\u001b[39;49m\u001b[43mconcat_df\u001b[49m\u001b[43m(\u001b[49m\u001b[43melems\u001b[49m\u001b[43m)\u001b[49m)\n\u001b[1;32m    183\u001b[0m     \u001b[38;5;28;01melif\u001b[39;00m how \u001b[38;5;241m==\u001b[39m \u001b[38;5;124m\"\u001b[39m\u001b[38;5;124mvertical_relaxed\u001b[39m\u001b[38;5;124m\"\u001b[39m:\n\u001b[1;32m    184\u001b[0m         out \u001b[38;5;241m=\u001b[39m wrap_ldf(\n\u001b[1;32m    185\u001b[0m             plr\u001b[38;5;241m.\u001b[39mconcat_lf(\n\u001b[1;32m    186\u001b[0m                 [df\u001b[38;5;241m.\u001b[39mlazy() \u001b[38;5;28;01mfor\u001b[39;00m df \u001b[38;5;129;01min\u001b[39;00m elems],\n\u001b[0;32m   (...)\u001b[0m\n\u001b[1;32m    190\u001b[0m             )\n\u001b[1;32m    191\u001b[0m         )\u001b[38;5;241m.\u001b[39mcollect(no_optimization\u001b[38;5;241m=\u001b[39m\u001b[38;5;28;01mTrue\u001b[39;00m)\n",
      "\u001b[0;31mSchemaError\u001b[0m: type String is incompatible with expected type Null"
     ]
    }
   ],
   "source": [
    "pl.concat([df1,df],rechunk=True)"
   ]
  }
 ],
 "metadata": {
  "kernelspec": {
   "display_name": "phasenet",
   "language": "python",
   "name": "python3"
  },
  "language_info": {
   "codemirror_mode": {
    "name": "ipython",
    "version": 3
   },
   "file_extension": ".py",
   "mimetype": "text/x-python",
   "name": "python",
   "nbconvert_exporter": "python",
   "pygments_lexer": "ipython3",
   "version": "3.10.13"
  }
 },
 "nbformat": 4,
 "nbformat_minor": 2
}
